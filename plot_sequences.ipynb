{
 "cells": [
  {
   "cell_type": "code",
   "execution_count": null,
   "id": "d97f3f78-147d-41fb-a888-b691db8a05c7",
   "metadata": {},
   "outputs": [],
   "source": [
    "import os\n",
    "from os import path\n",
    "\n",
    "import pandas as pd\n",
    "import json"
   ]
  },
  {
   "cell_type": "code",
   "execution_count": null,
   "id": "38b3d7ad-f1d8-4c8d-bba2-ce320d697184",
   "metadata": {},
   "outputs": [],
   "source": [
    "# Various datasets to visualize\n",
    "\n",
    "option = 13\n",
    "time0 = time1 = ''\n",
    "\n",
    "if option == 13:    \n",
    "    title = \"SPIKE TEST\"\n",
    "    base_folder = \"./simulations/spike2\"\n",
    "    sim_id = 141\n",
    "    pathogen_id = 16\n",
    "    sim_tz = \"US/Eastern\"\n",
    "    time0 = 'Jun 11 2023 10:10AM'\n",
    "    time1 = 'Jun 11 2023 11:10AM'\n",
    "    time_step_min = 1\n",
    "    use_new_id_schema = True"
   ]
  },
  {
   "cell_type": "code",
   "execution_count": null,
   "id": "4fd090c8-cf1d-44a2-a5d0-500952f06738",
   "metadata": {},
   "outputs": [],
   "source": [
    "data_folder = path.join(base_folder, \"data\")\n",
    "output_root = path.join(base_folder, \"output\")\n",
    "output_folder = path.join(output_root, \"contacts\")"
   ]
  },
  {
   "cell_type": "code",
   "execution_count": null,
   "id": "45113658-6b56-41ab-aa0e-1eaf0082539d",
   "metadata": {},
   "outputs": [],
   "source": [
    "all_users = pd.read_csv(path.join(data_folder, \"participants.csv\"))\n",
    "all_sequences = pd.read_csv(path.join(data_folder, \"sequences.csv\"))\n",
    "all_mutations = pd.read_csv(path.join(data_folder, \"mutations.csv\"))\n",
    "\n",
    "users = all_users[all_users[\"sim_id\"] == sim_id]\n",
    "ref_seq = list(all_sequences[all_sequences[\"pathogen_id\"] == pathogen_id][\"sequence\"][0])\n",
    "mutations = all_mutations[all_mutations[\"sim_id\"] == sim_id]\n",
    "mutations = mutations.assign(sequence='')"
   ]
  },
  {
   "cell_type": "code",
   "execution_count": null,
   "id": "29a8b9a8-9e23-4cac-8b0f-01e4677d69e2",
   "metadata": {},
   "outputs": [],
   "source": [
    "print(''.join(ref_seq))"
   ]
  },
  {
   "cell_type": "code",
   "execution_count": null,
   "id": "8dc978f5-e40b-4cc9-b651-cf8c63167e9b",
   "metadata": {},
   "outputs": [],
   "source": [
    "mutations"
   ]
  },
  {
   "cell_type": "code",
   "execution_count": null,
   "id": "52068617-0981-453e-8aef-d092c856d79c",
   "metadata": {},
   "outputs": [],
   "source": [
    "for idx in mutations.index:\n",
    "    p_mut = mutations[\"prev_mutation_id\"][idx]\n",
    "    if p_mut == 0:\n",
    "        seq0 = ref_seq\n",
    "    else:\n",
    "        seq0 = list(mutations[mutations[\"id\"] == p_mut][\"sequence\"].values[0])\n",
    "    delta = json.loads(mutations[\"delta\"][idx])\n",
    "    for k in delta.keys():\n",
    "        pos = int(k)\n",
    "        nt0, nt1 = delta[k].split('-')\n",
    "        seq0[pos] = nt1\n",
    "    mutations.at[idx, \"sequence\"] = seq0\n",
    "    print(\">seq\" +  str(mutations[\"id\"][idx]))\n",
    "    print(''.join(seq0))\n",
    "    \n"
   ]
  },
  {
   "cell_type": "markdown",
   "id": "b549b0fd-d892-4c0e-822c-a8e2cdf4f7b5",
   "metadata": {},
   "source": [
    "### Generate alignemnt (and trees) with https://www.ebi.ac.uk/Tools/msa/clustalo/"
   ]
  },
  {
   "cell_type": "code",
   "execution_count": null,
   "id": "2f93dc0f-9088-4c6a-8f40-f49fc74ce7c0",
   "metadata": {},
   "outputs": [],
   "source": []
  }
 ],
 "metadata": {
  "kernelspec": {
   "display_name": "Python 3 (ipykernel)",
   "language": "python",
   "name": "python3"
  },
  "language_info": {
   "codemirror_mode": {
    "name": "ipython",
    "version": 3
   },
   "file_extension": ".py",
   "mimetype": "text/x-python",
   "name": "python",
   "nbconvert_exporter": "python",
   "pygments_lexer": "ipython3",
   "version": "3.10.9"
  }
 },
 "nbformat": 4,
 "nbformat_minor": 5
}
