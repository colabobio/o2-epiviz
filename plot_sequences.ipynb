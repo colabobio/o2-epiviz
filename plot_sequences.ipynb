{
 "cells": [
  {
   "cell_type": "code",
   "execution_count": 174,
   "id": "d97f3f78-147d-41fb-a888-b691db8a05c7",
   "metadata": {},
   "outputs": [],
   "source": [
    "import os\n",
    "from os import path\n",
    "\n",
    "from igraph import *\n",
    "\n",
    "from PIL import Image, ImageDraw, ImageFont\n",
    "\n",
    "import pandas as pd\n",
    "import json"
   ]
  },
  {
   "cell_type": "code",
   "execution_count": 175,
   "id": "38b3d7ad-f1d8-4c8d-bba2-ce320d697184",
   "metadata": {},
   "outputs": [],
   "source": [
    "# Various datasets to visualize\n",
    "\n",
    "option = 14\n",
    "time0 = time1 = ''\n",
    "\n",
    "if option == 13:    \n",
    "    title = \"SPIKE TEST\"\n",
    "    base_folder = \"./simulations/spike2\"\n",
    "    sim_id = 141\n",
    "    pathogen_id = 16\n",
    "    sim_tz = \"US/Eastern\"\n",
    "    time0 = 'Jun 11 2023 10:10AM'\n",
    "    time1 = 'Jun 11 2023 11:10AM'\n",
    "    time_step_min = 1\n",
    "    use_new_id_schema = True\n",
    "if option == 14:\n",
    "    title = \"WKU\"\n",
    "    base_folder = \"./simulations/wku23\"\n",
    "    sim_id = 165\n",
    "    pathogen_id = 20\n",
    "    sim_tz = \"Asia/Shanghai\"\n",
    "    time0 = 'Nov 20 2023 9:00AM'\n",
    "    time1 = 'Dec 4 2023 12:00PM'\n",
    "    time_step_min = 30\n",
    "    use_new_id_schema = True"
   ]
  },
  {
   "cell_type": "code",
   "execution_count": 193,
   "id": "4fd090c8-cf1d-44a2-a5d0-500952f06738",
   "metadata": {},
   "outputs": [],
   "source": [
    "# Configuration\n",
    "\n",
    "data_folder = path.join(base_folder, \"data\")\n",
    "output_root = path.join(base_folder, \"output\")\n",
    "output_folder = path.join(output_root, \"phylo\")\n",
    "if not path.exists(output_folder):\n",
    "    os.makedirs(output_folder)\n",
    "\n",
    "style = {}\n",
    "style[\"bbox\"] = (1200, 800)\n",
    "style[\"margin\"] = 15\n",
    "style[\"vertex_size\"] = 7\n",
    "style[\"vertex_frame_width\"] = 0\n",
    "style[\"edge_arrow_size\"] = 0.6\n",
    "style[\"edge_arrow_width\"] = 0.6\n",
    "style[\"edge_curved\"] = False\n",
    "\n",
    "label_font = ImageFont.truetype(\"Roboto-Regular.ttf\", size=24)"
   ]
  },
  {
   "cell_type": "code",
   "execution_count": 194,
   "id": "45113658-6b56-41ab-aa0e-1eaf0082539d",
   "metadata": {},
   "outputs": [],
   "source": [
    "# Load the data\n",
    "\n",
    "all_users = pd.read_csv(path.join(data_folder, \"participants.csv\"))\n",
    "all_sequences = pd.read_csv(path.join(data_folder, \"sequences.csv\"))\n",
    "all_mutations = pd.read_csv(path.join(data_folder, \"mutations.csv\"))\n",
    "\n",
    "users = all_users[all_users[\"sim_id\"] == sim_id]\n",
    "ref_seq = list(all_sequences[all_sequences[\"pathogen_id\"] == pathogen_id][\"sequence\"].values[0])\n",
    "mutations = all_mutations[all_mutations[\"sim_id\"] == sim_id]\n",
    "mutations = mutations.assign(sequence='')\n",
    "mutations.sort_values(by=['id'], inplace=True)\n",
    "\n",
    "#print(''.join(ref_seq))\n",
    "#print(mutations)"
   ]
  },
  {
   "cell_type": "code",
   "execution_count": 195,
   "id": "52068617-0981-453e-8aef-d092c856d79c",
   "metadata": {},
   "outputs": [
    {
     "name": "stdout",
     "output_type": "stream",
     "text": [
      "Saving FASTA file\n"
     ]
    }
   ],
   "source": [
    "# Save all the recorded sequences\n",
    "\n",
    "def apply_delta(seq, delta):\n",
    "    for k in delta.keys():\n",
    "        pos = int(k)\n",
    "        nt0, nt1 = delta[k].split('-')\n",
    "        seq[pos] = nt1\n",
    "\n",
    "def add_sequence(id, pid, seq, lines):\n",
    "    if id == 0:\n",
    "        lines += [\">seq\" + str(pathogen_id if pid == 0 else pid)]\n",
    "    else:\n",
    "        lines += [\">seq\" + str(pathogen_id if pid == 0 else pid) + \"-\" + str(id)]\n",
    "    lines += [''.join(seq)]\n",
    "\n",
    "def get_prev_seq(p_mut_id, transmissions, fasta_lines):\n",
    "    if p_mut_id == 0:\n",
    "        return ref_seq.copy()\n",
    "    else:\n",
    "        prev_mutation = mutations[mutations[\"id\"] == p_mut_id]\n",
    "        prev_seq = list(prev_mutation[\"sequence\"].values[0])\n",
    "        if prev_seq:\n",
    "            return prev_seq\n",
    "        else:\n",
    "            if prev_mutation[\"id\"].values[0] != p_mut_id:\n",
    "                print(\"Error, inconsistent mutation ID for\", p_mut_id)\n",
    "                return []\n",
    "            pp_mut_id = prev_mutation[\"prev_mutation_id\"].values[0]\n",
    "            prev_seq = get_prev_seq(pp_mut_id, transmissions, fasta_lines)\n",
    "            if not prev_seq: return []\n",
    "            apply_delta(prev_seq, json.loads(prev_mutation[\"delta\"].values[0]))\n",
    "            prev_mutation[\"sequence\"].values[0] = prev_seq\n",
    "            if pathogen_id < pp_mut_id:\n",
    "                transmissions += [(pp_mut_id - pathogen_id - 1, p_mut_id - pathogen_id - 1)]\n",
    "            add_sequence(p_mut_id, pp_mut_id, prev_seq, fasta_lines)\n",
    "            return prev_seq.copy()\n",
    "\n",
    "transmissions = []\n",
    "fasta_lines = []\n",
    "\n",
    "for idx in mutations.index:\n",
    "    mut_id = mutations[\"id\"][idx]\n",
    "    p_mut_id = mutations[\"prev_mutation_id\"][idx]\n",
    "    seq = mutations[\"sequence\"][idx]\n",
    "    if seq: continue\n",
    "    prev_seq = get_prev_seq(p_mut_id, transmissions, fasta_lines)\n",
    "    if not prev_seq: \n",
    "        print(\"Error, cannot resolve sequence for mutation\", p_mut_id)\n",
    "        continue\n",
    "    apply_delta(prev_seq, json.loads(mutations[\"delta\"][idx]))\n",
    "    mutations.at[idx, \"sequence\"] = prev_seq\n",
    "    if pathogen_id < p_mut_id:\n",
    "        transmissions += [(p_mut_id - pathogen_id - 1, mut_id - pathogen_id - 1)]    \n",
    "    add_sequence(mut_id, p_mut_id, prev_seq, fasta_lines)\n",
    "\n",
    "print(\"Saving FASTA file\")\n",
    "fasta_fn = path.join(output_folder, \"sequences.fasta\")\n",
    "with open(fasta_fn, 'w') as f:\n",
    "    for line in fasta_lines:\n",
    "        f.write(line + '\\n')"
   ]
  },
  {
   "cell_type": "code",
   "execution_count": 199,
   "id": "2f93dc0f-9088-4c6a-8f40-f49fc74ce7c0",
   "metadata": {},
   "outputs": [],
   "source": [
    "# Create network of transmissions from sequence data\n",
    "\n",
    "nvert = len(mutations)\n",
    "labels = list(mutations[\"id\"].astype(str))\n",
    "g = Graph(directed=True)\n",
    "g.add_vertices(nvert)\n",
    "g.add_edges(transmissions)\n",
    "\n",
    "style[\"layout\"] = g.layout_fruchterman_reingold()\n",
    "style[\"vertex_label\"] = labels\n",
    "style[\"vertex_label_size\"] = 10\n",
    "style[\"vertex_label_dist\"] = 1.3\n",
    "\n",
    "print(\"Saving network image\")\n",
    "img_fn = path.join(output_folder, \"transmissions.png\")\n",
    "p = plot(g, img_fn, **style)"
   ]
  },
  {
   "cell_type": "code",
   "execution_count": null,
   "id": "19b578cd-c5b3-4837-b5b2-1a67c8d59d3f",
   "metadata": {},
   "outputs": [],
   "source": [
    "### Generate alignment (and trees) with https://www.ebi.ac.uk/Tools/msa/clustalo/"
   ]
  }
 ],
 "metadata": {
  "kernelspec": {
   "display_name": "Python 3 (ipykernel)",
   "language": "python",
   "name": "python3"
  },
  "language_info": {
   "codemirror_mode": {
    "name": "ipython",
    "version": 3
   },
   "file_extension": ".py",
   "mimetype": "text/x-python",
   "name": "python",
   "nbconvert_exporter": "python",
   "pygments_lexer": "ipython3",
   "version": "3.10.13"
  }
 },
 "nbformat": 4,
 "nbformat_minor": 5
}
