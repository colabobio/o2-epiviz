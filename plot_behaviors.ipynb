{
 "cells": [
  {
   "cell_type": "code",
   "execution_count": 2,
   "id": "11977596-fc08-4c00-960e-6f266203b23d",
   "metadata": {},
   "outputs": [],
   "source": [
    "import os\n",
    "from os import path\n",
    "import textwrap\n",
    "from datetime import datetime, timedelta, date\n",
    "import pytz\n",
    "\n",
    "from igraph import *\n",
    "\n",
    "import seaborn as sns\n",
    "import numpy as np\n",
    "import pandas as pd\n",
    "\n",
    "import matplotlib.pyplot as plt\n",
    "import matplotlib.colors as clr"
   ]
  },
  {
   "cell_type": "code",
   "execution_count": 3,
   "id": "a068bf4a-64e0-4540-a302-79a28c300dc3",
   "metadata": {},
   "outputs": [],
   "source": [
    "title = \"WKU\"\n",
    "base_folder = \"./simulations/wku23\"\n",
    "sim_id = 165\n",
    "sim_tz = \"Asia/Shanghai\"\n",
    "time0 = 'Nov 20 2023 9:00AM'\n",
    "time1 = 'Dec 4 2023 12:00PM'\n",
    "time_step_min = 30\n",
    "use_new_id_schema = True   "
   ]
  },
  {
   "cell_type": "code",
   "execution_count": 4,
   "id": "cb1997c5-c81a-4a47-a31d-1609d8dd41f6",
   "metadata": {},
   "outputs": [],
   "source": [
    "# Configuration\n",
    "\n",
    "# Option colors:\n",
    "# https://matplotlib.org/3.1.0/gallery/color/named_colors.html\n",
    "option_color = {0: clr.to_hex(\"cornflowerblue\"),\n",
    "                1: clr.to_hex(\"darkorange\"),\n",
    "                2: clr.to_hex(\"darkorchid\"),\n",
    "                3: clr.to_hex(\"darkgrey\"),\n",
    "                4: clr.to_hex(\"mediumseagreen\")\n",
    "               } \n",
    "\n",
    "data_folder = path.join(base_folder, \"data\")\n",
    "output_root = path.join(base_folder, \"output\")\n",
    "output_folder = path.join(output_root, \"behaviors\")\n",
    "if not path.exists(output_folder):\n",
    "    os.makedirs(output_folder)\n",
    "\n",
    "# Print warning messages to the console when parsing data\n",
    "print_data_warnings = True\n",
    "\n",
    "save_images = True\n",
    "image_format = \"png\"\n",
    "\n",
    "# Time delta for plots in seconds\n",
    "time_delta_sec = 60 * (60 * 24)\n",
    "\n",
    "# https://howchoo.com/g/ywi5m2vkodk/working-with-datetime-objects-and-timezones-in-python\n",
    "# https://itnext.io/working-with-timezone-and-python-using-pytz-library-4931e61e5152\n",
    "timezone = pytz.timezone(sim_tz)\n",
    "\n",
    "if time0 and time1:\n",
    "    obs_date0 = timezone.localize(datetime.strptime(time0, '%b %d %Y %I:%M%p'))\n",
    "    obs_date1 = timezone.localize(datetime.strptime(time1, '%b %d %Y %I:%M%p'))\n",
    "else:\n",
    "    obs_date0 = None\n",
    "    obs_date1 = None"
   ]
  },
  {
   "cell_type": "code",
   "execution_count": 5,
   "id": "bcd114b9-27ef-40d3-85a6-9746ff065c2d",
   "metadata": {},
   "outputs": [],
   "source": [
    "def get_modifiers_list(events):\n",
    "    modifiers = events[(events[\"type\"] == \"modifier\")]\n",
    "    return modifiers\n",
    "\n",
    "def get_score_events(events):\n",
    "    scores = events[(events[\"type\"] == \"score\")]\n",
    "    return scores\n",
    "\n",
    "def get_modifier_count(events, name):\n",
    "    return len(events[(events[\"modifier\"] == name)])    \n",
    "\n",
    "def get_message_counts(events):\n",
    "    msg1 = len(events[(events[\"modifier\"] == \"https://www.wkuoo23-simulation.info/psa-message-1\")])\n",
    "    msg2 = len(events[(events[\"modifier\"] == \"https://www.wkuoo23-simulation.info/psa-message-2\")])\n",
    "    return {\"message_suggest_quarantine\":msg1, \"message_demand_quarantine\":msg2}\n",
    "\n",
    "def get_behavior_counts(events):\n",
    "    nq = len(events[(events[\"inf\"] == \"quarantine\")])\n",
    "    nnq = len(events[(events[\"inf\"] == \"noQuarantine\")])\n",
    "    return {\"quarantine_choice_yes\":nq, \"quarantine_choice_no\":nnq}\n",
    "    \n",
    "# https://stackoverflow.com/a/48938464\n",
    "def hour_rounder(t):\n",
    "    # Rounds to nearest hour by adding a timedelta hour if minute >= 30\n",
    "    return (t.replace(second=0, microsecond=0, minute=0, hour=t.hour)\n",
    "               +timedelta(hours=t.minute//30))"
   ]
  },
  {
   "cell_type": "code",
   "execution_count": 6,
   "id": "2a4cc0c3-d248-4ecd-8f11-f6abb827d4be",
   "metadata": {},
   "outputs": [
    {
     "name": "stderr",
     "output_type": "stream",
     "text": [
      "/var/folders/4g/z3rj5j_j781_8ckvkcy7p4840000gp/T/ipykernel_12623/754287964.py:9: DtypeWarning: Columns (6,7,8,13) have mixed types. Specify dtype option on import or set low_memory=False.\n",
      "  all_events = pd.read_csv(path.join(data_folder, \"histories.csv\"))\n"
     ]
    },
    {
     "name": "stdout",
     "output_type": "stream",
     "text": [
      "794\n",
      "794\n",
      "794\n",
      "794\n"
     ]
    }
   ],
   "source": [
    "# Load participants and histories\n",
    "\n",
    "user_survey = pd.read_csv(path.join(data_folder, \"survey.csv\")) \n",
    "question1 = \"Public health officials should have the power to order people into quarantine during COVID-19 outbreaks\"\n",
    "question2 = \"If someone is given a quarantine order by a public health official, they should follow it no matter what else is going on in their life at work or home\"\n",
    "question3 = \"If I go into quarantine, my family, friends, and community will be protected from getting COVID-19\"\n",
    "\n",
    "all_users = pd.read_csv(path.join(data_folder, \"participants.csv\")) \n",
    "all_events = pd.read_csv(path.join(data_folder, \"histories.csv\"))\n",
    "\n",
    "users = all_users[all_users[\"sim_id\"] == sim_id]\n",
    "\n",
    "events = all_events[all_events[\"sim_id\"] == sim_id]\n",
    "events.fillna({'contact_length':0, 'peer_id':-1}, inplace=True)\n",
    "events[\"event_start\"] = events[\"time\"] - events[\"contact_length\"]/1000\n",
    "events[\"event_start\"] = events[\"event_start\"].astype(int)\n",
    "\n",
    "p2pToSim = pd.Series(users.sim_id.values, index=users.p2p_id).to_dict()\n",
    "p2pToId = pd.Series(users.id.values, index=users.p2p_id).to_dict()\n",
    "idTop2p = pd.Series(users.p2p_id.values, index=users.id).to_dict()\n",
    "\n",
    "user_ids = []\n",
    "uId2Id = {}\n",
    "for rid, id in zip(list(users.random_id.values), list(users.id.values)):\n",
    "    uid = str(rid).rjust(4, '0')\n",
    "    user_ids.append(uid)\n",
    "    uId2Id[uid] = id\n",
    "\n",
    "user_index = {}\n",
    "index_user = {}\n",
    "idx = 0\n",
    "for kid in idTop2p:\n",
    "    user_index[kid] = idx\n",
    "    index_user[idx] = kid\n",
    "    idx += 1\n",
    "\n",
    "# These should return the same value\n",
    "print(len(users))\n",
    "print(len(idTop2p))    \n",
    "print(len(p2pToId))\n",
    "print(len(user_index))"
   ]
  },
  {
   "cell_type": "code",
   "execution_count": 7,
   "id": "6543ad4d-cebf-4e13-ae14-6491e5de6740",
   "metadata": {},
   "outputs": [
    {
     "name": "stdout",
     "output_type": "stream",
     "text": [
      "First event: 2023-11-19 15:00:00+08:00\n",
      "Last event : 2023-12-05 16:00:00+08:00\n",
      "Start time: 2023-11-20 09:00:00\n",
      "End time: 2023-12-04 12:00:00\n",
      "Asia/Shanghai\n"
     ]
    }
   ],
   "source": [
    "# Round min and max times to the hour\n",
    "min_time = min(events['time'])\n",
    "max_time = max(events['time'])\n",
    "first_date = hour_rounder(datetime.fromtimestamp(min_time, tz=timezone))\n",
    "last_date = hour_rounder(datetime.fromtimestamp(max_time, tz=timezone))\n",
    "min_time = datetime.timestamp(first_date)\n",
    "max_time = datetime.timestamp(last_date)\n",
    "\n",
    "print(\"First event:\", first_date)\n",
    "print(\"Last event :\", last_date)\n",
    "\n",
    "if time0 and time1:\n",
    "    print(\"Start time:\", datetime.strptime(time0, '%b %d %Y %I:%M%p'))\n",
    "    print(\"End time:\", datetime.strptime(time1, '%b %d %Y %I:%M%p'))\n",
    "\n",
    "print(first_date.tzinfo)"
   ]
  },
  {
   "cell_type": "markdown",
   "id": "0b5148e1-489a-4606-a9c1-98f252816185",
   "metadata": {},
   "source": [
    "## QUARANTINE/MASKING CHOICE OVER TIME"
   ]
  },
  {
   "cell_type": "code",
   "execution_count": 8,
   "id": "de45cbdd-d45e-49b7-abaa-3eb673dff8fc",
   "metadata": {},
   "outputs": [
    {
     "name": "stdout",
     "output_type": "stream",
     "text": [
      "2023-11-20 09:00:00+08:00 2023-12-04 12:00:00+08:00\n",
      "FRAME \n",
      "DONE\n"
     ]
    }
   ],
   "source": [
    "# Behaviors over time\n",
    "\n",
    "frame = 0\n",
    "\n",
    "if obs_date0 and obs_date1:\n",
    "    tmin = datetime.timestamp(obs_date0)\n",
    "    tmax = datetime.timestamp(obs_date1)\n",
    "    print(obs_date0, obs_date1)\n",
    "else:\n",
    "    tmin = min_time\n",
    "    tmax = max_time\n",
    "\n",
    "series_quarantine_yes = []\n",
    "series_quarantine_no = []\n",
    "series_wearing_mask = []\n",
    "series_medicine = []\n",
    "series_quarantine_ratio = []\n",
    "series_message_suggest = []\n",
    "series_message_demand = []\n",
    "\n",
    "time_labels = []\n",
    "time_ticks = []\n",
    "time_index = []\n",
    "\n",
    "t = tmin\n",
    "print(\"FRAME\", end =\" \") \n",
    "while t <= tmax:\n",
    "    t0 = t\n",
    "    t += time_delta_sec\n",
    "    td = datetime.fromtimestamp(t0, tz=timezone)\n",
    "\n",
    "    # We want to include events that ocurred between t0 and t\n",
    "    condition = (t0 < events['time']) & (events['time'] <= t)\n",
    "\n",
    "    tevents = events[condition]\n",
    "    mevents = get_modifiers_list(tevents)\n",
    "    score_events = get_score_events(tevents)\n",
    "\n",
    "    mask_count = get_modifier_count(mevents, \"Wearing Mask\")\n",
    "    med_count = get_modifier_count(mevents, \"Wearing Mask\")\n",
    "    \n",
    "    messages = get_message_counts(mevents)\n",
    "    behaviors = get_behavior_counts(score_events)\n",
    "\n",
    "    time_index.append(frame)\n",
    "    time_labels.append(td.strftime('%b %d %-I:%M %p'))\n",
    "    time_ticks.append(frame)\n",
    "\n",
    "    series_wearing_mask.append(mask_count)\n",
    "    \n",
    "    series_message_suggest.append(messages['message_suggest_quarantine'])\n",
    "    series_message_demand.append(messages['message_demand_quarantine'])\n",
    "\n",
    "    q_yes = behaviors['quarantine_choice_yes']\n",
    "    q_no = behaviors['quarantine_choice_no']\n",
    "    q_total = q_yes + q_no\n",
    "    \n",
    "    series_quarantine_yes.append(q_yes)\n",
    "    series_quarantine_no.append(q_no)\n",
    "\n",
    "    series_quarantine_ratio.append(100 * float(q_yes) / q_total)\n",
    "\n",
    "    frame += 1\n",
    "\n",
    "print(\"\\nDONE\")"
   ]
  },
  {
   "cell_type": "code",
   "execution_count": 12,
   "id": "8aff37ab-29d3-43d6-87e0-3530c46810e9",
   "metadata": {},
   "outputs": [],
   "source": [
    "# Quarantine yes/no plots\n",
    "\n",
    "fig, ax = plt.subplots(figsize=(8,6), facecolor=\"white\")\n",
    "# plt.xlabel(\"Time\", labelpad=15, fontsize=15)\n",
    "plt.ylabel(\"Participants\", labelpad=15, fontsize=15)\n",
    "plt.ylim(0, 250)\n",
    "ax.plot(time_index, series_quarantine_yes, label=\"Quarantine YES\", color=option_color[0], lw=2)\n",
    "plt.xticks(time_ticks, time_labels, rotation=45, horizontalalignment=\"right\")\n",
    "plt.legend(loc='upper right')\n",
    "plt.tight_layout()\n",
    "if save_images:\n",
    "    img_fn = \"quarantine_yes_count.\" + image_format\n",
    "    fig.savefig(os.path.join(output_folder, img_fn))\n",
    "    plt.close('all')\n",
    "\n",
    "fig, ax = plt.subplots(figsize=(8,6), facecolor=\"white\")\n",
    "plt.ylabel(\"Participants\", labelpad=15, fontsize=15)\n",
    "plt.ylim(0, 250)\n",
    "ax.plot(time_index, series_quarantine_no, label=\"Quarantine NO\", color=option_color[0], lw=2)\n",
    "plt.xticks(time_ticks, time_labels, rotation=45, horizontalalignment=\"right\")\n",
    "plt.legend(loc='upper right')\n",
    "plt.tight_layout()\n",
    "if save_images:\n",
    "    img_fn = \"quarantine_no_count.\" + image_format\n",
    "    fig.savefig(os.path.join(output_folder, img_fn))\n",
    "    plt.close('all')\n",
    "\n",
    "# Quarantine yes/no ratio plot\n",
    "fig, ax = plt.subplots(figsize=(8,6), facecolor=\"white\")     \n",
    "# plt.xlabel(\"Time\", labelpad=15, fontsize=15)\n",
    "plt.ylabel(\"Percentage\", labelpad=15, fontsize=15)\n",
    "ax.plot(time_index, series_quarantine_ratio, label=\"Yes to no ratio\", color=option_color[3], lw=2)\n",
    "plt.xticks(time_ticks, time_labels, rotation=45, horizontalalignment=\"right\")\n",
    "plt.legend(loc='upper right')\n",
    "plt.tight_layout()\n",
    "if save_images:\n",
    "    img_fn = \"quarantine_choice_ratio.\" + image_format\n",
    "    fig.savefig(os.path.join(output_folder, img_fn))\n",
    "    plt.close('all')\n",
    "\n",
    "# Quarantine message received plot\n",
    "fig, ax = plt.subplots(figsize=(8,6), facecolor=\"white\")     \n",
    "# plt.xlabel(\"Time\", labelpad=15, fontsize=15)\n",
    "plt.ylabel(\"Participants\", labelpad=15, fontsize=15)\n",
    "ax.plot(time_index, series_message_suggest, label=\"Suggested to quarantine\", color=option_color[0], lw=2)\n",
    "ax.plot(time_index, series_message_demand, label=\"Mandated to quarantine\", color=option_color[1], lw=2)\n",
    "plt.legend(loc='upper right')\n",
    "plt.tight_layout()\n",
    "if save_images:\n",
    "    img_fn = \"quarantine_message_counts.\" + image_format\n",
    "    fig.savefig(os.path.join(output_folder, img_fn))\n",
    "    plt.close('all')\n",
    "\n",
    "# Mask wearing\n",
    "fig, ax = plt.subplots(figsize=(8,6), facecolor=\"white\")     \n",
    "# plt.xlabel(\"Time\", labelpad=15, fontsize=15)\n",
    "plt.ylabel(\"Count\", labelpad=15, fontsize=15)\n",
    "plt.ylim(0, 250)\n",
    "ax.plot(time_index, series_wearing_mask, label=\"Wearing mask\", color=option_color[0], lw=2)\n",
    "plt.xticks(time_ticks, time_labels, rotation=45, horizontalalignment=\"right\")\n",
    "plt.legend(loc='upper right')\n",
    "plt.tight_layout()\n",
    "if save_images:\n",
    "    img_fn = \"mask_wearing_counts.\" + image_format\n",
    "    fig.savefig(os.path.join(output_folder, img_fn))\n",
    "    plt.close('all')"
   ]
  },
  {
   "cell_type": "markdown",
   "id": "b565064b-8362-4ec7-a098-831f1b693f4a",
   "metadata": {},
   "source": [
    "## RESPONSES TO PRE-SIMULATION SURVEY"
   ]
  },
  {
   "cell_type": "code",
   "execution_count": 87,
   "id": "43d438f7-150a-4bce-98c8-bdc4c3077d55",
   "metadata": {},
   "outputs": [],
   "source": [
    "counts, bin_edges = np.histogram(user_survey[\"question1\"], bins=5)\n",
    "bin_centers = (bin_edges[:-1] + bin_edges[1:]) / 2  # Calculate bin centers\n",
    "\n",
    "tick_labels = ['Strongly disagree', 'Somewhat disagree', 'Neither agree nor disagree', 'Somewhat agree', 'Strongly agree']\n",
    "\n",
    "# Calculate bar width (as a fraction of bin width)\n",
    "bar_width = (bin_edges[1] - bin_edges[0]) * 0.8  # 80% of the bin width\n",
    "\n",
    "centers = np.arange(1, 6, 1)\n",
    "bin_edges = np.concatenate((centers - 0.5, [centers[-1] + 0.5]))\n",
    "\n",
    "plt.figure(figsize=(8, 6))\n",
    "plt.title(\"\\n\".join(textwrap.wrap(question1, width=80)))\n",
    "plt.hist(user_survey[\"question1\"], bins=bin_edges, align = 'mid', rwidth=0.7, color=option_color[4])\n",
    "plt.xticks(centers, tick_labels, rotation=45, ha='right')\n",
    "plt.tight_layout()\n",
    "if save_images:\n",
    "    img_fn = \"question1_hist.\" + image_format\n",
    "    plt.savefig(os.path.join(output_folder, img_fn))\n",
    "    plt.close('all')\n",
    "    \n",
    "plt.figure(figsize=(8, 6))\n",
    "plt.title(\"\\n\".join(textwrap.wrap(question2, width=80)))\n",
    "plt.hist(user_survey[\"question2\"], bins=bin_edges, align = 'mid', rwidth=0.7, color=option_color[4])\n",
    "plt.xticks(centers, tick_labels, rotation=45, ha='right')\n",
    "plt.tight_layout()\n",
    "if save_images:\n",
    "    img_fn = \"question2_hist.\" + image_format\n",
    "    plt.savefig(os.path.join(output_folder, img_fn))\n",
    "    plt.close('all')\n",
    "    \n",
    "plt.figure(figsize=(8, 6))\n",
    "plt.title(\"\\n\".join(textwrap.wrap(question3, width=80)))\n",
    "plt.hist(user_survey[\"question3\"], bins=bin_edges, align = 'mid', rwidth=0.7, color=option_color[4])\n",
    "plt.xticks(centers, tick_labels, rotation=45, ha='right')\n",
    "plt.tight_layout()\n",
    "if save_images:\n",
    "    img_fn = \"question3_hist.\" + image_format\n",
    "    plt.savefig(os.path.join(output_folder, img_fn))\n",
    "    plt.close('all')"
   ]
  },
  {
   "cell_type": "markdown",
   "id": "0551fae6-9fc7-442d-a69f-04dbeb9a417f",
   "metadata": {},
   "source": [
    "## CORRELATION BETWEEN SURVEY RESPONSE AND QUARANTINE CHOICE"
   ]
  },
  {
   "cell_type": "code",
   "execution_count": 17,
   "id": "2f56576a-186a-4cd0-b9e1-6bc94d1989fa",
   "metadata": {},
   "outputs": [],
   "source": [
    "q1_scores = []\n",
    "q2_scores = []\n",
    "q3_scores = []\n",
    "qCounts = []\n",
    "noqCounts = []\n",
    "\n",
    "for idx in user_survey.index:\n",
    "    uid = user_survey[\"user_id\"][idx]\n",
    "    if uid in user_ids:\n",
    "        id = uId2Id[uid]\n",
    "        q1_score = user_survey[\"question1\"][idx]\n",
    "        q2_score = user_survey[\"question2\"][idx]\n",
    "        q3_score = user_survey[\"question3\"][idx]\n",
    "\n",
    "        qCond = (events[\"user_id\"] == id) & (events[\"type\"] == \"score\") & (events[\"inf\"] == \"quarantine\")\n",
    "        qEvents = events[qCond]\n",
    "        qCount = len(qEvents)\n",
    "\n",
    "        noqCond = (events[\"user_id\"] == id) & (events[\"type\"] == \"score\") & (events[\"inf\"] == \"noQuarantine\")\n",
    "        noqEvents = events[noqCond]\n",
    "        noqCount = len(noqEvents)\n",
    "\n",
    "        q1_scores.append(q1_score)\n",
    "        q2_scores.append(q2_score)\n",
    "        q3_scores.append(q3_score)\n",
    "        qCounts.append(qCount)\n",
    "        noqCounts.append(noqCount)"
   ]
  },
  {
   "cell_type": "code",
   "execution_count": 18,
   "id": "aa476eee-6551-4e95-9c99-cfb947b17410",
   "metadata": {},
   "outputs": [
    {
     "data": {
      "text/plain": [
       "<matplotlib.collections.PathCollection at 0x14663e830>"
      ]
     },
     "execution_count": 18,
     "metadata": {},
     "output_type": "execute_result"
    },
    {
     "data": {
      "image/png": "[encoded data removed]",
      "text/plain": [
       "<Figure size 640x480 with 6 Axes>"
      ]
     },
     "metadata": {},
     "output_type": "display_data"
    }
   ],
   "source": [
    "# Q1 = \"Public health officials should have the power to order people into quarantine during COVID-19 outbreaks\"\n",
    "# Q2 = \"If someone is given a quarantine order by a public health official, they should follow it no matter what else is going on in their life at work or home\"\n",
    "# Q3 = \"If I go into quarantine, my family, friends, and community will be protected from getting COVID-19\"\n",
    "\n",
    "fig, axs = plt.subplots(3, 2)\n",
    "axs[0, 0].scatter(q1_scores, qCounts)\n",
    "axs[0, 1].scatter(q1_scores, noqCounts)\n",
    "axs[1, 0].scatter(q2_scores, qCounts)\n",
    "axs[1, 1].scatter(q2_scores, noqCounts)\n",
    "axs[2, 0].scatter(q3_scores, qCounts)\n",
    "axs[2, 1].scatter(q3_scores, noqCounts)"
   ]
  },
  {
   "cell_type": "code",
   "execution_count": 35,
   "id": "814f2d2a-9407-4fd0-8334-8809c17431b9",
   "metadata": {},
   "outputs": [],
   "source": [
    "# sns.violinplot(x=q1_scores, y=qCounts, bw_adjust=.5, inner=\"stick\")\n",
    "sns.boxplot(x=q1_scores, y=qCounts)\n",
    "if save_images:\n",
    "    img_fn = \"q1_vs_quarantine_yes.\" + image_format\n",
    "    plt.savefig(os.path.join(output_folder, img_fn))\n",
    "    plt.close('all')"
   ]
  },
  {
   "cell_type": "code",
   "execution_count": 36,
   "id": "8f5c1e80-da18-4f11-8ded-98488fd6c7bf",
   "metadata": {},
   "outputs": [],
   "source": [
    "# sns.violinplot(x=q1_scores, y=noqCounts, bw_adjust=.5, inner=\"stick\")\n",
    "sns.boxplot(x=q1_scores, y=noqCounts)\n",
    "if save_images:\n",
    "    img_fn = \"q1_vs_quarantine_no.\" + image_format\n",
    "    plt.savefig(os.path.join(output_folder, img_fn))\n",
    "    plt.close('all')"
   ]
  },
  {
   "cell_type": "code",
   "execution_count": 37,
   "id": "b72c1482-fc8e-41a4-a2f0-8b7cfd5e8240",
   "metadata": {},
   "outputs": [],
   "source": [
    "# sns.violinplot(x=q2_scores, y=qCounts, bw_adjust=.5, inner=\"stick\")\n",
    "sns.boxplot(x=q2_scores, y=qCounts)\n",
    "if save_images:\n",
    "    img_fn = \"q2_vs_quarantine_yes.\" + image_format\n",
    "    plt.savefig(os.path.join(output_folder, img_fn))\n",
    "    plt.close('all')"
   ]
  },
  {
   "cell_type": "code",
   "execution_count": 38,
   "id": "2a9b9002-e9bc-43cf-bf66-ca0acea86f4e",
   "metadata": {},
   "outputs": [],
   "source": [
    "# sns.violinplot(x=q2_scores, y=noqCounts, bw_adjust=.5, inner=\"stick\")\n",
    "sns.boxplot(x=q2_scores, y=noqCounts)\n",
    "if save_images:\n",
    "    img_fn = \"q2_vs_quarantine_no.\" + image_format\n",
    "    plt.savefig(os.path.join(output_folder, img_fn))\n",
    "    plt.close('all')"
   ]
  },
  {
   "cell_type": "code",
   "execution_count": 39,
   "id": "f2106e61-b836-4c7e-a589-16a18651a6dc",
   "metadata": {},
   "outputs": [],
   "source": [
    "# sns.violinplot(x=q3_scores, y=qCounts, bw_adjust=.5, inner=\"stick\")\n",
    "sns.boxplot(x=q3_scores, y=qCounts)\n",
    "if save_images:\n",
    "    img_fn = \"q3_vs_quarantine_yes.\" + image_format\n",
    "    plt.savefig(os.path.join(output_folder, img_fn))\n",
    "    plt.close('all')"
   ]
  },
  {
   "cell_type": "code",
   "execution_count": 40,
   "id": "cf1af8ab-7749-4885-baa6-c6da82c08925",
   "metadata": {},
   "outputs": [],
   "source": [
    "# sns.violinplot(x=q3_scores, y=noqCounts, bw_adjust=.5, inner=\"stick\")\n",
    "sns.boxplot(x=q3_scores, y=noqCounts)\n",
    "if save_images:\n",
    "    img_fn = \"q3_vs_quarantine_no.\" + image_format\n",
    "    plt.savefig(os.path.join(output_folder, img_fn))\n",
    "    plt.close('all')"
   ]
  },
  {
   "cell_type": "code",
   "execution_count": 41,
   "id": "63e3665c-6b1d-435e-9c2b-cfd11b8036cd",
   "metadata": {},
   "outputs": [],
   "source": [
    "sns.boxplot(x=q1_scores, y=q2_scores)\n",
    "if save_images:\n",
    "    img_fn = \"q1_vs_q2.\" + image_format\n",
    "    plt.savefig(os.path.join(output_folder, img_fn))\n",
    "    plt.close('all')"
   ]
  },
  {
   "cell_type": "code",
   "execution_count": 42,
   "id": "57e28dc3-fe98-461d-ba1d-8f012fe4ccaf",
   "metadata": {},
   "outputs": [],
   "source": [
    "sns.boxplot(x=q1_scores, y=q3_scores)\n",
    "if save_images:\n",
    "    img_fn = \"q1_vs_q3.\" + image_format\n",
    "    plt.savefig(os.path.join(output_folder, img_fn))\n",
    "    plt.close('all')"
   ]
  },
  {
   "cell_type": "code",
   "execution_count": 43,
   "id": "b3d142b7-0d2a-4f85-b26f-b45e71d7a87b",
   "metadata": {},
   "outputs": [],
   "source": [
    "sns.boxplot(x=q2_scores, y=q3_scores)\n",
    "if save_images:\n",
    "    img_fn = \"q2_vs_q3.\" + image_format\n",
    "    plt.savefig(os.path.join(output_folder, img_fn))\n",
    "    plt.close('all')"
   ]
  },
  {
   "cell_type": "markdown",
   "id": "ed662fcb-7bb3-465a-ae31-69cca5822535",
   "metadata": {},
   "source": [
    "## CORRELATION BETWEEN MESSAGING AND QUARANTINE CHOICE"
   ]
  },
  {
   "cell_type": "code",
   "execution_count": 44,
   "id": "45a61ce7-b07a-4813-aef4-b1ed7e00b31f",
   "metadata": {},
   "outputs": [],
   "source": [
    "# First PSA message: Thursday, November 23, 2023 6:08:13 PM (Shanghai time)\n",
    "# timestamp: 1700784493\n",
    "\n",
    "# End of first week: Friday 11/25 9 PM (Shanghai time)\n",
    "# timestap: 1700917200\n",
    "\n",
    "# Start of second week: Monday 11/27 9 AM (Shanghai time)\n",
    "# timestamp: 1701046800\n",
    "\n",
    "# Second PSA message: Tuesday, November 28, 2023 10:38:45 PM (Shanghai time)\n",
    "# timestamp: 1701232725\n",
    "\n",
    "# End of second week: Thursday 11/30 9 PM (Shanghai time)\n",
    "# timestap: 1701349200\n",
    "\n",
    "def calculate_counts_before_after(events, timestamp):\n",
    "    q1_events = events[(events[\"type\"] == \"modifier\") & (events[\"modifier\"] == \"https://www.wkuoo23-simulation.info/psa-message-1\")]\n",
    "    q2_events = events[(events[\"type\"] == \"modifier\") & (events[\"modifier\"] == \"https://www.wkuoo23-simulation.info/psa-message-2\")]    \n",
    "    q1_users = list(q1_events[\"user_id\"])\n",
    "    q2_users = list(q2_events[\"user_id\"])\n",
    "\n",
    "    q1_before_counts = []\n",
    "    q2_before_counts = []\n",
    "    before_msg_events = events[events[\"time\"] < timestamp]\n",
    "    for id in q1_users:    \n",
    "        qCount = len(before_msg_events[(before_msg_events[\"user_id\"] == id) & (before_msg_events[\"type\"] == \"score\") & (before_msg_events[\"inf\"] == \"quarantine\")])\n",
    "        q1_before_counts.append(qCount)\n",
    "    for id in q2_users:  \n",
    "        qCount = len(before_msg_events[(before_msg_events[\"user_id\"] == id) & (before_msg_events[\"type\"] == \"score\") & (before_msg_events[\"inf\"] == \"quarantine\")])\n",
    "        q2_before_counts.append(qCount)    \n",
    "\n",
    "    q1_after_counts = []\n",
    "    q2_after_counts = []\n",
    "    after_msg_events = events[timestamp < events[\"time\"]]\n",
    "    for id in q1_users:\n",
    "        qCount = len(after_msg_events[(after_msg_events[\"user_id\"] == id) & (after_msg_events[\"type\"] == \"score\") & (after_msg_events[\"inf\"] == \"quarantine\")])\n",
    "        q1_after_counts.append(qCount)\n",
    "    for id in q2_users:\n",
    "        qCount = len(after_msg_events[(after_msg_events[\"user_id\"] == id) & (after_msg_events[\"type\"] == \"score\") & (after_msg_events[\"inf\"] == \"quarantine\")])\n",
    "        q2_after_counts.append(qCount)\n",
    "    \n",
    "    return {\"before_m1\": q1_before_counts, \"after_m1\": q1_after_counts, \"before_m2\": q2_before_counts, \"after_m2\": q2_after_counts}\n",
    "    \n",
    "\n",
    "week1_events = events[(events[\"time\"] < 1700917200)]\n",
    "week2_events = events[(1701046800 < events[\"time\"]) & (events[\"time\"] < 1701349200)]\n",
    "\n",
    "res_week1 = calculate_counts_before_after(week1_events, 1700784493)\n",
    "res_week2 = calculate_counts_before_after(week2_events, 1701232725)\n",
    "\n",
    "\n",
    "# before_msg1 = res_week1[\"before_m1\"] + res_week2[\"before_m1\"]\n",
    "# after_msg1 = res_week1[\"after_m1\"] + res_week2[\"after_m1\"]\n",
    "\n",
    "# before_msg2 = res_week1[\"before_m2\"] + res_week2[\"before_m2\"]\n",
    "# after_msg2 = res_week1[\"after_m2\"] + res_week2[\"after_m2\"]\n",
    "\n",
    "before_msg1 = res_week1[\"before_m1\"]\n",
    "after_msg1 = res_week1[\"after_m1\"]\n",
    "\n",
    "before_msg2 = res_week1[\"before_m2\"]\n",
    "after_msg2 = res_week1[\"after_m2\"]\n",
    "\n",
    "# before_msg1 = res_week2[\"before_m1\"]\n",
    "# after_msg1 = res_week2[\"after_m1\"]\n",
    "\n",
    "# before_msg2 = res_week2[\"before_m2\"]\n",
    "# after_msg2 = res_week2[\"after_m2\"]\n",
    "\n",
    "dict_msg1 = {'quarantine': before_msg1 + after_msg1, 'message': [\"before\"] * len(before_msg1) + [\"after\"] * len(after_msg1)} \n",
    "df_msg1 = pd.DataFrame(dict_msg1)\n",
    "\n",
    "dict_msg2 = {'quarantine': before_msg2 + after_msg2, 'message': [\"before\"] * len(before_msg2) + [\"after\"] * len(after_msg2)} \n",
    "df_msg2 = pd.DataFrame(dict_msg2)"
   ]
  },
  {
   "cell_type": "code",
   "execution_count": 49,
   "id": "6ebcae98-1f27-445d-a75a-fdc620266f8c",
   "metadata": {},
   "outputs": [],
   "source": [
    "sns.violinplot(data=df_msg1, x=\"quarantine\", y=\"message\")\n",
    "# sns.boxplot(data=df_msg1, x=\"quarantine\", y=\"message\")\n",
    "if save_images:\n",
    "    img_fn = \"quarantine_before_vs_after_message1.\" + image_format\n",
    "    plt.savefig(os.path.join(output_folder, img_fn))\n",
    "    plt.close('all')"
   ]
  },
  {
   "cell_type": "code",
   "execution_count": 50,
   "id": "2693b371-218a-47f6-ba68-ca09417bedab",
   "metadata": {},
   "outputs": [],
   "source": [
    "sns.violinplot(data=df_msg2, x=\"quarantine\", y=\"message\")\n",
    "# sns.boxplot(data=df_msg2, x=\"quarantine\", y=\"message\")\n",
    "if save_images:\n",
    "    img_fn = \"quarantine_before_vs_after_message2.\" + image_format\n",
    "    plt.savefig(os.path.join(output_folder, img_fn))\n",
    "    plt.close('all')"
   ]
  },
  {
   "cell_type": "code",
   "execution_count": 51,
   "id": "4c68d8e3-dd65-40c4-a4b8-e4e3ce3c4c45",
   "metadata": {},
   "outputs": [
    {
     "name": "stdout",
     "output_type": "stream",
     "text": [
      "0.75\n",
      "0.375\n",
      "0.5\n"
     ]
    }
   ],
   "source": [
    "mean_before1 = df_msg1[df_msg1[\"message\"] == \"before\"][\"quarantine\"].mean()\n",
    "mean_after1 = df_msg1[df_msg1[\"message\"] == \"after\"][\"quarantine\"].mean()\n",
    "print(mean_before1)\n",
    "print(mean_after1)\n",
    "print(mean_after1/mean_before1)"
   ]
  },
  {
   "cell_type": "code",
   "execution_count": 52,
   "id": "48aba6f2-dbb4-4f63-9b23-1d7423ec2786",
   "metadata": {},
   "outputs": [
    {
     "name": "stdout",
     "output_type": "stream",
     "text": [
      "0.5\n",
      "0.2777777777777778\n",
      "0.5555555555555556\n"
     ]
    }
   ],
   "source": [
    "mean_before2 = df_msg2[df_msg2[\"message\"] == \"before\"][\"quarantine\"].mean()\n",
    "mean_after2 = df_msg2[df_msg2[\"message\"] == \"after\"][\"quarantine\"].mean()\n",
    "print(mean_before2)\n",
    "print(mean_after2)\n",
    "print(mean_after2/mean_before2)"
   ]
  },
  {
   "cell_type": "code",
   "execution_count": null,
   "id": "409c2cdf-642a-4b44-ae00-54941f110872",
   "metadata": {},
   "outputs": [],
   "source": []
  }
 ],
 "metadata": {
  "kernelspec": {
   "display_name": "Python 3 (ipykernel)",
   "language": "python",
   "name": "python3"
  },
  "language_info": {
   "codemirror_mode": {
    "name": "ipython",
    "version": 3
   },
   "file_extension": ".py",
   "mimetype": "text/x-python",
   "name": "python",
   "nbconvert_exporter": "python",
   "pygments_lexer": "ipython3",
   "version": "3.11.7"
  }
 },
 "nbformat": 4,
 "nbformat_minor": 5
}
