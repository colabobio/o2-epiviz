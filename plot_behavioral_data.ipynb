{
 "cells": [
  {
   "cell_type": "code",
   "execution_count": 1,
   "id": "11977596-fc08-4c00-960e-6f266203b23d",
   "metadata": {},
   "outputs": [],
   "source": [
    "import os\n",
    "from os import path\n",
    "from datetime import datetime, timedelta, date\n",
    "import pytz\n",
    "\n",
    "from igraph import *\n",
    "\n",
    "import seaborn as sns\n",
    "import numpy as np\n",
    "import pandas as pd\n",
    "\n",
    "import matplotlib.pyplot as plt\n",
    "import matplotlib.colors as clr\n",
    "%matplotlib inline"
   ]
  },
  {
   "cell_type": "code",
   "execution_count": 2,
   "id": "a068bf4a-64e0-4540-a302-79a28c300dc3",
   "metadata": {},
   "outputs": [],
   "source": [
    "title = \"WKU\"\n",
    "base_folder = \"./simulations/wku23\"\n",
    "sim_id = 165\n",
    "sim_tz = \"Asia/Shanghai\"\n",
    "time0 = 'Nov 20 2023 9:00AM'\n",
    "time1 = 'Dec 4 2023 12:00PM'\n",
    "time_step_min = 30\n",
    "use_new_id_schema = True   "
   ]
  },
  {
   "cell_type": "code",
   "execution_count": null,
   "id": "cb1997c5-c81a-4a47-a31d-1609d8dd41f6",
   "metadata": {},
   "outputs": [],
   "source": []
  }
 ],
 "metadata": {
  "kernelspec": {
   "display_name": "Python 3 (ipykernel)",
   "language": "python",
   "name": "python3"
  },
  "language_info": {
   "codemirror_mode": {
    "name": "ipython",
    "version": 3
   },
   "file_extension": ".py",
   "mimetype": "text/x-python",
   "name": "python",
   "nbconvert_exporter": "python",
   "pygments_lexer": "ipython3",
   "version": "3.10.13"
  }
 },
 "nbformat": 4,
 "nbformat_minor": 5
}
